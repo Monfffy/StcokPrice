{
 "cells": [
  {
   "cell_type": "markdown",
   "metadata": {},
   "source": [
    "## Project 2 - Stock Price Prediction\n",
    "### Mengfei Hu & Yuzhe Liu"
   ]
  },
  {
   "cell_type": "markdown",
   "metadata": {},
   "source": [
    "## 1 Introduction\n",
    "### 1.1 Problem Domain"
   ]
  },
  {
   "cell_type": "code",
   "execution_count": 1,
   "metadata": {
    "collapsed": false
   },
   "outputs": [
    {
     "name": "stderr",
     "output_type": "stream",
     "text": [
      "Using TensorFlow backend.\n"
     ]
    }
   ],
   "source": [
    "import numpy as np \n",
    "import pandas as pd\n",
    "import matplotlib.pyplot as plt\n",
    "import math\n",
    "from keras.models import Sequential\n",
    "from keras.layers import Dense\n",
    "from keras.layers import LSTM #Long short-time model\n",
    "from sklearn.preprocessing import MinMaxScaler\n",
    "from sklearn.metrics import mean_squared_error\n",
    "from sklearn import linear_model #Linear regression model"
   ]
  },
  {
   "cell_type": "markdown",
   "metadata": {},
   "source": [
    "### 1.2 Datasets"
   ]
  },
  {
   "cell_type": "code",
   "execution_count": 2,
   "metadata": {
    "collapsed": false
   },
   "outputs": [
    {
     "data": {
      "text/html": [
       "<div>\n",
       "<table border=\"1\" class=\"dataframe\">\n",
       "  <thead>\n",
       "    <tr style=\"text-align: right;\">\n",
       "      <th></th>\n",
       "      <th>date</th>\n",
       "      <th>symbol</th>\n",
       "      <th>open</th>\n",
       "      <th>close</th>\n",
       "      <th>low</th>\n",
       "      <th>high</th>\n",
       "      <th>volume</th>\n",
       "    </tr>\n",
       "  </thead>\n",
       "  <tbody>\n",
       "    <tr>\n",
       "      <th>0</th>\n",
       "      <td>1/02/2013</td>\n",
       "      <td>ZTS</td>\n",
       "      <td>31.50</td>\n",
       "      <td>31.010000</td>\n",
       "      <td>30.469999</td>\n",
       "      <td>31.74</td>\n",
       "      <td>66789100</td>\n",
       "    </tr>\n",
       "    <tr>\n",
       "      <th>1</th>\n",
       "      <td>4/02/2013</td>\n",
       "      <td>ZTS</td>\n",
       "      <td>31.09</td>\n",
       "      <td>31.020000</td>\n",
       "      <td>30.760000</td>\n",
       "      <td>31.99</td>\n",
       "      <td>7695400</td>\n",
       "    </tr>\n",
       "    <tr>\n",
       "      <th>2</th>\n",
       "      <td>5/02/2013</td>\n",
       "      <td>ZTS</td>\n",
       "      <td>31.25</td>\n",
       "      <td>31.040001</td>\n",
       "      <td>30.850000</td>\n",
       "      <td>31.98</td>\n",
       "      <td>5013200</td>\n",
       "    </tr>\n",
       "    <tr>\n",
       "      <th>3</th>\n",
       "      <td>6/02/2013</td>\n",
       "      <td>ZTS</td>\n",
       "      <td>30.98</td>\n",
       "      <td>31.030001</td>\n",
       "      <td>30.750000</td>\n",
       "      <td>31.43</td>\n",
       "      <td>2126100</td>\n",
       "    </tr>\n",
       "    <tr>\n",
       "      <th>4</th>\n",
       "      <td>7/02/2013</td>\n",
       "      <td>ZTS</td>\n",
       "      <td>31.00</td>\n",
       "      <td>32.000000</td>\n",
       "      <td>31.000000</td>\n",
       "      <td>32.73</td>\n",
       "      <td>3800800</td>\n",
       "    </tr>\n",
       "  </tbody>\n",
       "</table>\n",
       "</div>"
      ],
      "text/plain": [
       "        date symbol   open      close        low   high    volume\n",
       "0  1/02/2013    ZTS  31.50  31.010000  30.469999  31.74  66789100\n",
       "1  4/02/2013    ZTS  31.09  31.020000  30.760000  31.99   7695400\n",
       "2  5/02/2013    ZTS  31.25  31.040001  30.850000  31.98   5013200\n",
       "3  6/02/2013    ZTS  30.98  31.030001  30.750000  31.43   2126100\n",
       "4  7/02/2013    ZTS  31.00  32.000000  31.000000  32.73   3800800"
      ]
     },
     "execution_count": 2,
     "metadata": {},
     "output_type": "execute_result"
    }
   ],
   "source": [
    "price = pd.read_csv('prices.csv')\n",
    "price.head()"
   ]
  },
  {
   "cell_type": "code",
   "execution_count": 3,
   "metadata": {
    "collapsed": false
   },
   "outputs": [
    {
     "data": {
      "text/plain": [
       "(1762, 1)"
      ]
     },
     "execution_count": 3,
     "metadata": {},
     "output_type": "execute_result"
    }
   ],
   "source": [
    "# we are not interested in the date,\n",
    "# given that each observation is separated by almost the same interval (per day).\n",
    "\n",
    "# Three companies with diffrent size\n",
    "company = price[price['symbol']=='MSFT']\n",
    "#company = price[price['symbol']=='LYB']\n",
    "#company = price[price['symbol']=='FB']\n",
    "\n",
    "companyStock = company.close.values.astype('float32')\n",
    "companyStock = companyStock.reshape(len(companyStock), 1)\n",
    "companyStock.shape"
   ]
  },
  {
   "cell_type": "code",
   "execution_count": 4,
   "metadata": {
    "collapsed": false
   },
   "outputs": [
    {
     "data": {
      "image/png": "[encoded data removed]",
      "text/plain": [
       "<matplotlib.figure.Figure at 0x219bbd68eb8>"
      ]
     },
     "metadata": {},
     "output_type": "display_data"
    }
   ],
   "source": [
    "plt.plot(companyStock)\n",
    "plt.xticks(())\n",
    "plt.show()"
   ]
  },
  {
   "cell_type": "code",
   "execution_count": 5,
   "metadata": {
    "collapsed": false
   },
   "outputs": [
    {
     "data": {
      "text/plain": [
       "((1233, 1), (529, 1))"
      ]
     },
     "execution_count": 5,
     "metadata": {},
     "output_type": "execute_result"
    }
   ],
   "source": [
    "# split into 70% train and 30% test sets\n",
    "train_size = int(len(companyStock) * 0.7)\n",
    "test_size = len(companyStock) - train_size\n",
    "train, test = companyStock[0:train_size,:], companyStock[train_size:len(companyStock),:]\n",
    "train.shape, test.shape"
   ]
  },
  {
   "cell_type": "markdown",
   "metadata": {},
   "source": [
    "## 2 Methods and Assumptions\n",
    "### 2.1 Time window (look_back)"
   ]
  },
  {
   "cell_type": "code",
   "execution_count": 6,
   "metadata": {
    "collapsed": true
   },
   "outputs": [],
   "source": [
    "# convert an array of values into a dataset matrix\n",
    "# it creates a dataset where X is the number of passengers at a given time (t), \n",
    "# and Y is the number of passengers at the next time (t + 1).\n",
    "def create_dataset(dataset, look_back=1):\n",
    "\tdataX, dataY = [], []\n",
    "\tfor i in range(len(dataset)-look_back-1):\n",
    "\t\ta = dataset[i:(i+look_back), 0]\n",
    "\t\tdataX.append(a)\n",
    "\t\tdataY.append(dataset[i + look_back, 0])\n",
    "\treturn np.array(dataX), np.array(dataY)"
   ]
  },
  {
   "cell_type": "code",
   "execution_count": 7,
   "metadata": {
    "collapsed": false
   },
   "outputs": [
    {
     "data": {
      "text/plain": [
       "((1231, 1), (1231,), (527, 1), (527,))"
      ]
     },
     "execution_count": 7,
     "metadata": {},
     "output_type": "execute_result"
    }
   ],
   "source": [
    "# look_back is the setting for size of time window\n",
    "# if look_back = 1, which means we are using nextday model\n",
    "look_back = 1\n",
    "trainX, trainY = create_dataset(train, look_back)\n",
    "testX, testY = create_dataset(test, look_back)\n",
    "trainX.shape,trainY.shape,testX.shape,testY.shape"
   ]
  },
  {
   "cell_type": "markdown",
   "metadata": {},
   "source": [
    "### 2.2 Prediction Models: Linear Regerssion (LR) vs. Long Shor-time Model (LSTM)"
   ]
  },
  {
   "cell_type": "markdown",
   "metadata": {},
   "source": [
    "## 3 Prediction Approaches\n",
    "### 3.1 LR"
   ]
  },
  {
   "cell_type": "code",
   "execution_count": 8,
   "metadata": {
    "collapsed": false
   },
   "outputs": [
    {
     "data": {
      "text/plain": [
       "LinearRegression(copy_X=True, fit_intercept=True, n_jobs=1, normalize=False)"
      ]
     },
     "execution_count": 8,
     "metadata": {},
     "output_type": "execute_result"
    }
   ],
   "source": [
    "# build the linear regression model\n",
    "# train the model using the training sets\n",
    "regr = linear_model.LinearRegression()\n",
    "regr.fit(trainX, trainY)"
   ]
  },
  {
   "cell_type": "code",
   "execution_count": 9,
   "metadata": {
    "collapsed": false
   },
   "outputs": [
    {
     "name": "stdout",
     "output_type": "stream",
     "text": [
      "Coefficients: [ 1.00052822]\n",
      "Prediction MSE: 0.62026405\n"
     ]
    }
   ],
   "source": [
    "# make predictions\n",
    "testPredict = regr.predict(testX)\n",
    "# The coefficients\n",
    "print('Coefficients:',regr.coef_)\n",
    "# The mean squared error\n",
    "testMSE = mean_squared_error(testPredict, testY)\n",
    "print(\"Prediction MSE: %.8f\" % testMSE )"
   ]
  },
  {
   "cell_type": "code",
   "execution_count": 10,
   "metadata": {
    "collapsed": false
   },
   "outputs": [
    {
     "data": {
      "image/png": "[encoded data removed]",
      "text/plain": [
       "<matplotlib.figure.Figure at 0x219ba95ac50>"
      ]
     },
     "metadata": {},
     "output_type": "display_data"
    }
   ],
   "source": [
    "# shift test predictions for plotting\n",
    "testPredict = testPredict.reshape(len(testPredict),1)\n",
    "testPredictPlot = np.empty_like(companyStock)\n",
    "testPredictPlot[:, :] = np.nan\n",
    "testPredictPlot[len(companyStock)-len(testPredict):len(companyStock),:] = testPredict\n",
    "\n",
    "# plot baseline and predictions\n",
    "plt.plot(companyStock)\n",
    "plt.plot(testPredictPlot)\n",
    "plt.xticks(())\n",
    "plt.show()"
   ]
  },
  {
   "cell_type": "code",
   "execution_count": 11,
   "metadata": {
    "collapsed": false
   },
   "outputs": [
    {
     "name": "stdout",
     "output_type": "stream",
     "text": [
      "Coefficients: [ 0.03955124 -0.01977211 -0.02842844  0.00667846  1.0027982 ]\n",
      "Prediction MSE: 0.62291668\n"
     ]
    }
   ],
   "source": [
    "# rerun the model with time window of 5 days / 10 days\n",
    "look_back = 5\n",
    "#look_back = 10\n",
    "trainX, trainY = create_dataset(train, look_back)\n",
    "testX, testY = create_dataset(test, look_back)\n",
    "regr = linear_model.LinearRegression()\n",
    "regr.fit(trainX, trainY)\n",
    "print('Coefficients:',regr.coef_)\n",
    "testMSE = mean_squared_error(regr.predict(testX), testY)\n",
    "print(\"Prediction MSE: %.8f\" % testMSE )"
   ]
  },
  {
   "cell_type": "markdown",
   "metadata": {},
   "source": [
    "### 3.2 LSTM"
   ]
  },
  {
   "cell_type": "code",
   "execution_count": 12,
   "metadata": {
    "collapsed": false,
    "scrolled": true
   },
   "outputs": [
    {
     "data": {
      "text/plain": [
       "array([[ 0.19551837],\n",
       "       [ 0.19576454],\n",
       "       [ 0.19108593],\n",
       "       ..., \n",
       "       [ 0.98448664],\n",
       "       [ 0.98227042],\n",
       "       [ 0.96355575]], dtype=float32)"
      ]
     },
     "execution_count": 12,
     "metadata": {},
     "output_type": "execute_result"
    }
   ],
   "source": [
    "# rescale the data to the range of 0-to-1 (normalizing data)\n",
    "scaler = MinMaxScaler(feature_range=(0, 1))\n",
    "companyStock = scaler.fit_transform(companyStock)\n",
    "companyStock"
   ]
  },
  {
   "cell_type": "code",
   "execution_count": 13,
   "metadata": {
    "collapsed": false
   },
   "outputs": [
    {
     "data": {
      "text/plain": [
       "((1233, 1), (529, 1))"
      ]
     },
     "execution_count": 13,
     "metadata": {},
     "output_type": "execute_result"
    }
   ],
   "source": [
    "# split into 70% train and 30% test sets\n",
    "train_size = int(len(companyStock) * 0.7)\n",
    "test_size = len(companyStock) - train_size\n",
    "train, test = companyStock[0:train_size,:], companyStock[train_size:len(companyStock),:]\n",
    "train.shape, test.shape"
   ]
  },
  {
   "cell_type": "code",
   "execution_count": 14,
   "metadata": {
    "collapsed": false
   },
   "outputs": [
    {
     "data": {
      "text/plain": [
       "((1231, 1), (1231,), (527, 1), (527,))"
      ]
     },
     "execution_count": 14,
     "metadata": {},
     "output_type": "execute_result"
    }
   ],
   "source": [
    "look_back = 1\n",
    "trainX, trainY = create_dataset(train, look_back)\n",
    "testX, testY = create_dataset(test, look_back)\n",
    "trainX.shape,trainY.shape,testX.shape,testY.shape"
   ]
  },
  {
   "cell_type": "code",
   "execution_count": 15,
   "metadata": {
    "collapsed": false
   },
   "outputs": [
    {
     "data": {
      "text/plain": [
       "((1231, 1, 1), (1231,), (527, 1, 1), (527,))"
      ]
     },
     "execution_count": 15,
     "metadata": {},
     "output_type": "execute_result"
    }
   ],
   "source": [
    "# reshape input to be [samples, time steps, features]\n",
    "trainX = np.reshape(trainX, (trainX.shape[0], 1, trainX.shape[1]))\n",
    "testX = np.reshape(testX, (testX.shape[0], 1, testX.shape[1]))\n",
    "trainX.shape,trainY.shape,testX.shape,testY.shape"
   ]
  },
  {
   "cell_type": "code",
   "execution_count": 16,
   "metadata": {
    "collapsed": true
   },
   "outputs": [],
   "source": [
    "# build the LSTM\n",
    "model = Sequential()\n",
    "model.add(LSTM(4, input_shape=(1, look_back)))\n",
    "model.add(Dense(1))\n",
    "model.compile(loss='mean_squared_error', optimizer='adam')"
   ]
  },
  {
   "cell_type": "code",
   "execution_count": 17,
   "metadata": {
    "collapsed": false
   },
   "outputs": [
    {
     "name": "stdout",
     "output_type": "stream",
     "text": [
      "Epoch 1/10\n",
      "5s - loss: 0.0116\n",
      "Epoch 2/10\n",
      "4s - loss: 5.6881e-04\n",
      "Epoch 3/10\n",
      "4s - loss: 1.2109e-04\n",
      "Epoch 4/10\n",
      "4s - loss: 1.2307e-04\n",
      "Epoch 5/10\n",
      "3s - loss: 1.3067e-04\n",
      "Epoch 6/10\n",
      "3s - loss: 1.2692e-04\n",
      "Epoch 7/10\n",
      "3s - loss: 1.3012e-04\n",
      "Epoch 8/10\n",
      "3s - loss: 1.3363e-04\n",
      "Epoch 9/10\n",
      "3s - loss: 1.2832e-04\n",
      "Epoch 10/10\n",
      "3s - loss: 1.2990e-04\n"
     ]
    },
    {
     "data": {
      "text/plain": [
       "<keras.callbacks.History at 0x219bcf94e80>"
      ]
     },
     "execution_count": 17,
     "metadata": {},
     "output_type": "execute_result"
    }
   ],
   "source": [
    "# train the model\n",
    "model.fit(trainX, trainY, epochs=10, batch_size=1, verbose=2)"
   ]
  },
  {
   "cell_type": "code",
   "execution_count": 18,
   "metadata": {
    "collapsed": false
   },
   "outputs": [],
   "source": [
    "# make predictions\n",
    "testPredict = model.predict(testX)\n",
    "\n",
    "# invert predictions\n",
    "testPredict = scaler.inverse_transform(testPredict)\n",
    "testY = scaler.inverse_transform([testY])"
   ]
  },
  {
   "cell_type": "code",
   "execution_count": 19,
   "metadata": {
    "collapsed": false
   },
   "outputs": [
    {
     "name": "stdout",
     "output_type": "stream",
     "text": [
      "Prediction MSE: 1.01840379\n"
     ]
    }
   ],
   "source": [
    "testMSE = mean_squared_error(testPredict[:,0],testY[0])\n",
    "print(\"Prediction MSE: %.8f\" % testMSE )"
   ]
  },
  {
   "cell_type": "code",
   "execution_count": 20,
   "metadata": {
    "collapsed": false
   },
   "outputs": [
    {
     "data": {
      "image/png": "[encoded data removed]",
      "text/plain": [
       "<matplotlib.figure.Figure at 0x219bd0b8ef0>"
      ]
     },
     "metadata": {},
     "output_type": "display_data"
    }
   ],
   "source": [
    "# shift test predictions for plotting\n",
    "testPredictPlot = np.empty_like(companyStock)\n",
    "testPredictPlot[:, :] = np.nan\n",
    "testPredictPlot[len(trainX)+(look_back*2)+1:len(companyStock)-1, :] = testPredict\n",
    "# plot baseline and predictions\n",
    "plt.plot(scaler.inverse_transform(companyStock))\n",
    "plt.plot(testPredictPlot)\n",
    "plt.xticks(())\n",
    "plt.yticks(())\n",
    "plt.show()"
   ]
  },
  {
   "cell_type": "code",
   "execution_count": 25,
   "metadata": {
    "collapsed": false
   },
   "outputs": [
    {
     "name": "stdout",
     "output_type": "stream",
     "text": [
      "Epoch 1/10\n",
      "5s - loss: 0.0012\n",
      "Epoch 2/10\n",
      "3s - loss: 3.6206e-04\n",
      "Epoch 3/10\n",
      "3s - loss: 3.1610e-04\n",
      "Epoch 4/10\n",
      "3s - loss: 2.8497e-04\n",
      "Epoch 5/10\n",
      "3s - loss: 2.6015e-04\n",
      "Epoch 6/10\n",
      "4s - loss: 2.6616e-04\n",
      "Epoch 7/10\n",
      "4s - loss: 2.3504e-04\n",
      "Epoch 8/10\n",
      "4s - loss: 2.2499e-04\n",
      "Epoch 9/10\n",
      "4s - loss: 2.0796e-04\n",
      "Epoch 10/10\n",
      "3s - loss: 2.0538e-04\n"
     ]
    },
    {
     "data": {
      "text/plain": [
       "<keras.callbacks.History at 0x219c46fd3c8>"
      ]
     },
     "execution_count": 25,
     "metadata": {},
     "output_type": "execute_result"
    }
   ],
   "source": [
    "# rerun the model with time window of 5 days / 10 days\n",
    "look_back = 5\n",
    "#look_back = 10\n",
    "trainX, trainY = create_dataset(train, look_back)\n",
    "testX, testY = create_dataset(test, look_back)\n",
    "trainX = np.reshape(trainX, (trainX.shape[0], 1, trainX.shape[1]))\n",
    "testX = np.reshape(testX, (testX.shape[0], 1, testX.shape[1]))\n",
    "model = Sequential()\n",
    "model.add(LSTM(4, input_shape=(1, look_back)))\n",
    "model.add(Dense(1))\n",
    "model.compile(loss='mean_squared_error', optimizer='adam')\n",
    "model.fit(trainX, trainY, epochs = 10,batch_size=1, verbose=2)"
   ]
  },
  {
   "cell_type": "code",
   "execution_count": 22,
   "metadata": {
    "collapsed": true
   },
   "outputs": [],
   "source": [
    "testPredict = model.predict(testX)\n",
    "testPredict = scaler.inverse_transform(testPredict)\n",
    "testY = scaler.inverse_transform([testY])"
   ]
  },
  {
   "cell_type": "code",
   "execution_count": 23,
   "metadata": {
    "collapsed": false
   },
   "outputs": [
    {
     "name": "stdout",
     "output_type": "stream",
     "text": [
      "Prediction MSE: 5.07002943\n"
     ]
    }
   ],
   "source": [
    "testMSE = mean_squared_error(testPredict[:,0],testY[0])\n",
    "print(\"Prediction MSE: %.8f\" % testMSE )"
   ]
  },
  {
   "cell_type": "code",
   "execution_count": 24,
   "metadata": {
    "collapsed": false
   },
   "outputs": [
    {
     "data": {
      "image/png": "[encoded data removed]",
      "text/plain": [
       "<matplotlib.figure.Figure at 0x219bd0b8be0>"
      ]
     },
     "metadata": {},
     "output_type": "display_data"
    }
   ],
   "source": [
    "# shift test predictions for plotting\n",
    "testPredictPlot = np.empty_like(companyStock)\n",
    "testPredictPlot[:, :] = np.nan\n",
    "testPredictPlot[len(trainX)+(look_back*2)+1:len(companyStock)-1, :] = testPredict\n",
    "# plot baseline and predictions\n",
    "plt.plot(scaler.inverse_transform(companyStock))\n",
    "plt.plot(testPredictPlot)\n",
    "plt.xticks(())\n",
    "plt.yticks(())\n",
    "plt.show()"
   ]
  },
  {
   "cell_type": "markdown",
   "metadata": {},
   "source": [
    "## 4 Findins"
   ]
  },
  {
   "cell_type": "markdown",
   "metadata": {},
   "source": [
    "## 5 Next Step"
   ]
  },
  {
   "cell_type": "markdown",
   "metadata": {},
   "source": [
    "## 6 Summary"
   ]
  },
  {
   "cell_type": "code",
   "execution_count": null,
   "metadata": {
    "collapsed": true
   },
   "outputs": [],
   "source": []
  }
 ],
 "metadata": {
  "kernelspec": {
   "display_name": "Python 3",
   "language": "python",
   "name": "python3"
  },
  "language_info": {
   "codemirror_mode": {
    "name": "ipython",
    "version": 3
   },
   "file_extension": ".py",
   "mimetype": "text/x-python",
   "name": "python",
   "nbconvert_exporter": "python",
   "pygments_lexer": "ipython3",
   "version": "3.5.2"
  }
 },
 "nbformat": 4,
 "nbformat_minor": 2
}
